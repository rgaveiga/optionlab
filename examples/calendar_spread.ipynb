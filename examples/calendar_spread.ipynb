{
 "cells": [
  {
   "cell_type": "markdown",
   "metadata": {},
   "source": [
    "# Calendar Spread\n",
    "\n",
    "To implement this [strategy](https://www.investopedia.com/terms/c/calendarspread.asp), the trader sells a short-term option (either a call or a put) and buys a long-term option of same type, both options with the same strike. As such, it is a debit spread, the maximum loss being the amount paid for the strategy.\n",
    "\n",
    "**Caveat: Options are very risky derivatives and, like any other type of financial vehicle, trading options requires due diligence. Transactions shown as examples of trading strategies with options in this notebook are not recommendations.**"
   ]
  },
  {
   "cell_type": "code",
   "execution_count": 1,
   "metadata": {},
   "outputs": [],
   "source": [
    "from __future__ import print_function\n",
    "import sys\n",
    "import optionlab as op\n",
    "\n",
    "%matplotlib inline"
   ]
  },
  {
   "cell_type": "code",
   "execution_count": 2,
   "metadata": {},
   "outputs": [
    {
     "name": "stdout",
     "output_type": "stream",
     "text": [
      "Python version: 3.7.6 (default, Jan  8 2020, 20:23:39) [MSC v.1916 64 bit (AMD64)]\n",
      "OptionLab version: 0.1.5\n"
     ]
    }
   ],
   "source": [
    "print(\"Python version: %s\" % sys.version)\n",
    "print(\"OptionLab version: %s\" % op.__version__)"
   ]
  },
  {
   "cell_type": "markdown",
   "metadata": {},
   "source": [
    "After importing *OptionLab*, a *Strategy* object must be created."
   ]
  },
  {
   "cell_type": "code",
   "execution_count": 3,
   "metadata": {},
   "outputs": [],
   "source": [
    "st = op.strategy.Strategy()"
   ]
  },
  {
   "cell_type": "markdown",
   "metadata": {},
   "source": [
    "The underlying asset is Apple stock (ticker: APPL). We consider the stock price on January 18, 2021. The strategy involves selling 1000 calls with a strike of 127, expiring on January 29, 2021, and buying 1000 calls with a strike of 127, expiring on February 12, 2021. The first leg of the strategy earns us a premium of 4.60 per option, while the second leg costs us 5.90 per option."
   ]
  },
  {
   "cell_type": "code",
   "execution_count": 4,
   "metadata": {},
   "outputs": [],
   "source": [
    "stockprice = 127.14\n",
    "volatility = 0.427\n",
    "startdate = \"2021-01-18\"\n",
    "targetdate = \"2021-01-29\"\n",
    "interestrate = 0.0009\n",
    "minstock = stockprice - round(stockprice * 0.5, 2)\n",
    "maxstock = stockprice + round(stockprice * 0.5, 2)\n",
    "strategy = [\n",
    "    {\"type\": \"call\", \"strike\": 127.00, \"premium\": 4.60, \"n\": 1000, \"action\": \"sell\"},\n",
    "    {\n",
    "        \"type\": \"call\",\n",
    "        \"strike\": 127.00,\n",
    "        \"premium\": 5.90,\n",
    "        \"n\": 1000,\n",
    "        \"action\": \"buy\",\n",
    "        \"expiration\": \"2021-02-12\",\n",
    "    },\n",
    "]\n",
    "\n",
    "st.getdata(\n",
    "    stockprice=stockprice,\n",
    "    startdate=startdate,\n",
    "    targetdate=targetdate,\n",
    "    volatility=volatility,\n",
    "    interestrate=interestrate,\n",
    "    minstock=minstock,\n",
    "    maxstock=maxstock,\n",
    "    strategy=strategy,\n",
    ")"
   ]
  },
  {
   "cell_type": "code",
   "execution_count": 5,
   "metadata": {},
   "outputs": [
    {
     "name": "stdout",
     "output_type": "stream",
     "text": [
      "Wall time: 12.2 ms\n"
     ]
    }
   ],
   "source": [
    "%%time\n",
    "out = st.run()"
   ]
  },
  {
   "cell_type": "markdown",
   "metadata": {},
   "source": [
    "Profit/loss profile is displayed by calling the *plotPL()* method."
   ]
  },
  {
   "cell_type": "code",
   "execution_count": 6,
   "metadata": {},
   "outputs": [
    {
     "name": "stdout",
     "output_type": "stream",
     "text": [
      "P/L profile diagram:\n",
      "--------------------\n",
      "The vertical green dashed line corresponds to the position of the stock's spot price. The right and left arrow markers indicate the strike prices of calls and puts, respectively, with blue representing long and red representing short positions.\n"
     ]
    },
    {
     "data": {
      "image/png": "[encoded data removed]",
      "text/plain": [
       "<Figure size 432x288 with 1 Axes>"
      ]
     },
     "metadata": {
      "needs_background": "light"
     },
     "output_type": "display_data"
    }
   ],
   "source": [
    "st.plotPL()"
   ]
  },
  {
   "cell_type": "markdown",
   "metadata": {},
   "source": [
    "Below one can see some useful results of the calculations made for the strategy, including its PoP."
   ]
  },
  {
   "cell_type": "code",
   "execution_count": 7,
   "metadata": {},
   "outputs": [
    {
     "name": "stdout",
     "output_type": "stream",
     "text": [
      "Days remaining to the target date: 8\n",
      "Strategy cost: -1300.00\n",
      "Maximum loss: 1300.00\n",
      "Maximum profit: 3010.00\n",
      "Profitable stock price range:\n",
      "      118.87 ---> 136.15\n",
      "Probability of Profit (PoP): 62.7%\n"
     ]
    }
   ],
   "source": [
    "print(\"Days remaining to the target date: %d\" % st.days2target)\n",
    "print(\"Strategy cost: %.2f\" % out[\"StrategyCost\"])\n",
    "print(\"Maximum loss: %.2f\" % abs(out[\"MinimumReturnInTheDomain\"]))\n",
    "print(\"Maximum profit: %.2f\" % out[\"MaximumReturnInTheDomain\"])\n",
    "\n",
    "print(\"Profitable stock price range:\")\n",
    "\n",
    "for profrange in out[\"ProfitRanges\"]:\n",
    "    print(\"      %.2f ---> %.2f\" % (profrange[0], profrange[1]))\n",
    "\n",
    "print(\"Probability of Profit (PoP): %.1f%%\" % (out[\"ProbabilityOfProfit\"] * 100.0))"
   ]
  },
  {
   "cell_type": "code",
   "execution_count": null,
   "metadata": {},
   "outputs": [],
   "source": []
  }
 ],
 "metadata": {
  "kernelspec": {
   "display_name": "Python 3",
   "language": "python",
   "name": "python3"
  },
  "language_info": {
   "codemirror_mode": {
    "name": "ipython",
    "version": 3
   },
   "file_extension": ".py",
   "mimetype": "text/x-python",
   "name": "python",
   "nbconvert_exporter": "python",
   "pygments_lexer": "ipython3",
   "version": "3.7.6"
  }
 },
 "nbformat": 4,
 "nbformat_minor": 4
}
