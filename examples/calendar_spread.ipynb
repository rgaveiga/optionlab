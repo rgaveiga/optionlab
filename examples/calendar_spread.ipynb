{
 "cells": [
  {
   "cell_type": "markdown",
   "metadata": {},
   "source": [
    "# Calendar Spread\n",
    "\n",
    "To implement this [strategy](https://www.investopedia.com/terms/c/calendarspread.asp), the trader sells a short-term option (either a call or a put) and buys a long-term option of same type, both options with the same strike. As such, it is a debit spread, the maximum loss being the amount paid for the strategy.\n",
    "\n",
    "**Caveat: Options are very risky derivatives and, like any other type of financial vehicle, trading options requires due diligence. Transactions shown as examples of trading strategies with options in this notebook are not recommendations.**"
   ]
  },
  {
   "cell_type": "code",
   "execution_count": 1,
   "metadata": {
    "ExecuteTime": {
     "end_time": "2024-03-15T17:48:30.709566Z",
     "start_time": "2024-03-15T17:48:29.956122Z"
    }
   },
   "outputs": [],
   "source": [
    "from __future__ import print_function\n",
    "\n",
    "import datetime as dt\n",
    "import sys\n",
    "\n",
    "from optionlab import VERSION, run_strategy, plot_pl\n",
    "\n",
    "%matplotlib inline"
   ]
  },
  {
   "cell_type": "code",
   "execution_count": 2,
   "metadata": {
    "ExecuteTime": {
     "end_time": "2024-03-11T13:51:39.643053Z",
     "start_time": "2024-03-11T13:51:39.640177Z"
    }
   },
   "outputs": [
    {
     "name": "stdout",
     "output_type": "stream",
     "text": [
      "Python version: 3.11.9 | packaged by Anaconda, Inc. | (main, Apr 19 2024, 16:40:41) [MSC v.1916 64 bit (AMD64)]\n",
      "OptionLab version: 1.4.2\n"
     ]
    }
   ],
   "source": [
    "print(f\"Python version: {sys.version}\")\n",
    "print(f\"OptionLab version: {VERSION}\")"
   ]
  },
  {
   "cell_type": "markdown",
   "metadata": {},
   "source": [
    "The underlying asset is Apple stock (ticker: APPL). We consider the stock price on January 18, 2021. The strategy involves selling 1000 calls with a strike of 127, expiring on January 29, 2021, and buying 1000 calls with a strike of 127, expiring on February 12, 2021. The first leg of the strategy earns us a premium of 4.60 per option, while the second leg costs us 5.90 per option."
   ]
  },
  {
   "cell_type": "code",
   "execution_count": 3,
   "metadata": {
    "ExecuteTime": {
     "end_time": "2024-03-15T17:48:35.828897Z",
     "start_time": "2024-03-15T17:48:35.823904Z"
    }
   },
   "outputs": [],
   "source": [
    "stock_price = 127.14\n",
    "volatility = 0.427\n",
    "start_date = dt.date(2021, 1, 18)\n",
    "target_date = dt.date(2021, 1, 29)\n",
    "interest_rate = 0.0009\n",
    "min_stock = stock_price - round(stock_price * 0.5, 2)\n",
    "max_stock = stock_price + round(stock_price * 0.5, 2)\n",
    "strategy = [\n",
    "    {\"type\": \"call\", \"strike\": 127.00, \"premium\": 4.60, \"n\": 1000, \"action\": \"sell\"},\n",
    "    {\n",
    "        \"type\": \"call\",\n",
    "        \"strike\": 127.00,\n",
    "        \"premium\": 5.90,\n",
    "        \"n\": 1000,\n",
    "        \"action\": \"buy\",\n",
    "        \"expiration\": dt.date(2021, 2, 12),\n",
    "    },\n",
    "]\n",
    "\n",
    "inputs = {\n",
    "    \"stock_price\": stock_price,\n",
    "    \"start_date\": start_date,\n",
    "    \"target_date\": target_date,\n",
    "    \"volatility\": volatility,\n",
    "    \"interest_rate\": interest_rate,\n",
    "    \"min_stock\": min_stock,\n",
    "    \"max_stock\": max_stock,\n",
    "    \"strategy\": strategy,\n",
    "}"
   ]
  },
  {
   "cell_type": "code",
   "execution_count": 4,
   "metadata": {
    "ExecuteTime": {
     "end_time": "2024-03-12T13:22:23.858251Z",
     "start_time": "2024-03-12T13:22:23.848088Z"
    }
   },
   "outputs": [
    {
     "name": "stdout",
     "output_type": "stream",
     "text": [
      "CPU times: total: 406 ms\n",
      "Wall time: 492 ms\n"
     ]
    }
   ],
   "source": [
    "%%time\n",
    "out = run_strategy(inputs)"
   ]
  },
  {
   "cell_type": "code",
   "execution_count": 5,
   "metadata": {
    "ExecuteTime": {
     "end_time": "2024-03-12T13:22:31.185260Z",
     "start_time": "2024-03-12T13:22:30.357975Z"
    }
   },
   "outputs": [
    {
     "name": "stdout",
     "output_type": "stream",
     "text": [
      "Profit/Loss diagram:\n",
      "--------------------\n",
      "The vertical green dashed line corresponds to the position of the stock's spot price. The right and left arrow markers indicate the strike prices of calls and puts, respectively, with blue representing long and red representing short positions.\n"
     ]
    },
    {
     "data": {
      "image/png": "[encoded data removed]",
      "text/plain": [
       "<Figure size 640x480 with 1 Axes>"
      ]
     },
     "metadata": {},
     "output_type": "display_data"
    }
   ],
   "source": [
    "plot_pl(out)"
   ]
  },
  {
   "cell_type": "code",
   "execution_count": 6,
   "metadata": {
    "ExecuteTime": {
     "end_time": "2024-03-12T13:22:34.374344Z",
     "start_time": "2024-03-12T13:22:34.372552Z"
    }
   },
   "outputs": [
    {
     "name": "stdout",
     "output_type": "stream",
     "text": [
      "Probability of profit: 0.599111819020198\n",
      "Profit ranges: [(118.87, 136.15)]\n",
      "Per leg cost: [4600.0, -5900.0]\n",
      "Strategy cost: -1300.0\n",
      "Minimum return in the domain: -1300.0000000000146\n",
      "Maximum return in the domain: 3009.999999999999\n",
      "Implied volatility: [0.47300000000000003, 0.419]\n",
      "In the money probability: [0.4895105709759477, 0.4805997906939539]\n",
      "Delta: [-0.5216914758915705, 0.5273457614638198]\n",
      "Gamma: [0.03882722919950356, 0.02669940508461828]\n",
      "Theta: [0.22727438444823292, -0.15634971608107964]\n",
      "Vega: [0.09571294014902997, 0.1389462831961853]\n",
      "Rho: [-0.022202087247849632, 0.046016214466188525]\n",
      "\n"
     ]
    }
   ],
   "source": [
    "print(out)"
   ]
  },
  {
   "cell_type": "code",
   "execution_count": null,
   "metadata": {},
   "outputs": [],
   "source": []
  }
 ],
 "metadata": {
  "kernelspec": {
   "display_name": "Python 3 (ipykernel)",
   "language": "python",
   "name": "python3"
  },
  "language_info": {
   "codemirror_mode": {
    "name": "ipython",
    "version": 3
   },
   "file_extension": ".py",
   "mimetype": "text/x-python",
   "name": "python",
   "nbconvert_exporter": "python",
   "pygments_lexer": "ipython3",
   "version": "3.11.9"
  }
 },
 "nbformat": 4,
 "nbformat_minor": 4
}
