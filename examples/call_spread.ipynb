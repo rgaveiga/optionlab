{
 "cells": [
  {
   "cell_type": "markdown",
   "metadata": {},
   "source": [
    "# Call Spread with highest probability of profit (PoP)\n",
    "\n",
    "Call spreads are [vertical spreads](https://www.investopedia.com/terms/v/verticalspread.asp), i.e., two-legged options strategies where the trader buys a call and simultaneously sells another call, both with same expiration but different strikes.\n",
    "\n",
    "Vertical spreads offer a downside risk floor, contributing to effective risk management, while also capping potential gains.\n",
    "\n",
    "In this notebook, we conduct a search for the call spread with the highest probability of profit by considering all possible pairs of strikes, with and without a constraint. The underlying asset in focus is Microsoft stock, which was trading at 342.97 on November 22, 2021. The strike, bid price, and ask price of call options expiring on December 17, 2021, are sourced from a CSV file.\n",
    "\n",
    "For further details on this study, refer to [this article on Medium.com](https://medium.com/@rgaveiga/python-for-options-trading-1-selecting-a-call-spread-with-the-highest-probability-of-profit-8e61c9d325d6)\n",
    "\n",
    "**Caveat: Options are very risky derivatives and, like any other type of financial vehicle, trading options requires due diligence. Transactions shown as examples of trading strategies with options in this notebook are not recommendations.**"
   ]
  },
  {
   "cell_type": "code",
   "execution_count": 1,
   "metadata": {},
   "outputs": [],
   "source": [
    "from __future__ import print_function\n",
    "from optionlab.strategy import Strategy\n",
    "import pandas as pd\n",
    "import matplotlib.pyplot as plt\n",
    "from numpy import zeros\n",
    "\n",
    "%matplotlib inline"
   ]
  },
  {
   "cell_type": "code",
   "execution_count": 2,
   "metadata": {},
   "outputs": [],
   "source": [
    "stockprice = 342.97\n",
    "volatility = 0.18\n",
    "startdate = \"2021-11-22\"\n",
    "targetdate = \"2021-12-17\"\n",
    "interestrate = 0.001\n",
    "minstock = 0.0\n",
    "maxstock = stockprice + round(stockprice * 0.5, 2)"
   ]
  },
  {
   "cell_type": "code",
   "execution_count": 3,
   "metadata": {},
   "outputs": [],
   "source": [
    "df = pd.read_csv(\"msft_22-November-2021.csv\")\n",
    "chain = []\n",
    "\n",
    "for i, _ in enumerate(df[\"Expiration\"]):\n",
    "    if df[\"Expiration\"][i] == targetdate and df[\"Type\"][i] == \"call\":\n",
    "        chain.append([df[\"Strike\"][i], df[\"Bid\"][i], df[\"Ask\"][i]])"
   ]
  },
  {
   "cell_type": "code",
   "execution_count": 4,
   "metadata": {},
   "outputs": [],
   "source": [
    "st = Strategy()"
   ]
  },
  {
   "cell_type": "markdown",
   "metadata": {},
   "source": [
    "### Unconstrained:"
   ]
  },
  {
   "cell_type": "code",
   "execution_count": 5,
   "metadata": {},
   "outputs": [],
   "source": [
    "def get_highest_pop():\n",
    "    maxpop = 0.0\n",
    "\n",
    "    for i in range(len(chain) - 1):\n",
    "        for j in range(i + i, len(chain)):\n",
    "            for k in ((\"sell\", \"buy\"), (\"buy\", \"sell\")):\n",
    "                if k[0] == \"sell\":\n",
    "                    premium = [chain[i][1], chain[j][2]]\n",
    "                else:\n",
    "                    premium = [chain[i][2], chain[j][1]]\n",
    "\n",
    "                strategy = [\n",
    "                    {\n",
    "                        \"type\": \"call\",\n",
    "                        \"strike\": chain[i][0],\n",
    "                        \"premium\": premium[0],\n",
    "                        \"n\": 100,\n",
    "                        \"action\": k[0],\n",
    "                    },\n",
    "                    {\n",
    "                        \"type\": \"call\",\n",
    "                        \"strike\": chain[j][0],\n",
    "                        \"premium\": premium[1],\n",
    "                        \"n\": 100,\n",
    "                        \"action\": k[1],\n",
    "                    },\n",
    "                ]\n",
    "\n",
    "                st.getdata(\n",
    "                    stockprice=stockprice,\n",
    "                    startdate=startdate,\n",
    "                    targetdate=targetdate,\n",
    "                    volatility=volatility,\n",
    "                    interestrate=interestrate,\n",
    "                    minstock=minstock,\n",
    "                    maxstock=maxstock,\n",
    "                    strategy=strategy,\n",
    "                )\n",
    "\n",
    "                out = st.run()\n",
    "\n",
    "                if maxpop < out[\"ProbabilityOfProfit\"]:\n",
    "                    maxpop = out[\"ProbabilityOfProfit\"]\n",
    "                    best_strategy = strategy\n",
    "\n",
    "    return best_strategy"
   ]
  },
  {
   "cell_type": "code",
   "execution_count": 6,
   "metadata": {},
   "outputs": [
    {
     "name": "stdout",
     "output_type": "stream",
     "text": [
      "CPU times: total: 5.05 s\n",
      "Wall time: 5.05 s\n"
     ]
    }
   ],
   "source": [
    "%%time\n",
    "best_strategy = get_highest_pop()"
   ]
  },
  {
   "cell_type": "code",
   "execution_count": 7,
   "metadata": {},
   "outputs": [
    {
     "name": "stdout",
     "output_type": "stream",
     "text": [
      "[{'type': 'call', 'strike': 145.0, 'premium': 198.05, 'n': 100, 'action': 'buy'}, {'type': 'call', 'strike': 305.0, 'premium': 38.1, 'n': 100, 'action': 'sell'}]\n"
     ]
    }
   ],
   "source": [
    "print(best_strategy)"
   ]
  },
  {
   "cell_type": "code",
   "execution_count": 8,
   "metadata": {},
   "outputs": [],
   "source": [
    "st.getdata(\n",
    "    stockprice=stockprice,\n",
    "    startdate=startdate,\n",
    "    targetdate=targetdate,\n",
    "    volatility=volatility,\n",
    "    interestrate=interestrate,\n",
    "    minstock=minstock,\n",
    "    maxstock=maxstock,\n",
    "    strategy=best_strategy,\n",
    ")\n",
    "\n",
    "out = st.run()"
   ]
  },
  {
   "cell_type": "code",
   "execution_count": 9,
   "metadata": {},
   "outputs": [
    {
     "name": "stdout",
     "output_type": "stream",
     "text": [
      "Days remaining to the target date: 18\n",
      "Strategy cost: -15995.00\n",
      "Maximum loss: 15995.00\n",
      "Maximum profit: 5.00\n",
      "Profitable stock price range:\n",
      "      304.96 ---> inf\n",
      "Probability of Profit (PoP): 99.2%\n"
     ]
    }
   ],
   "source": [
    "print(\"Days remaining to the target date: %d\" % st.days2target)\n",
    "print(\"Strategy cost: %.2f\" % out[\"StrategyCost\"])\n",
    "print(\"Maximum loss: %.2f\" % abs(out[\"MinimumReturnInTheDomain\"]))\n",
    "print(\"Maximum profit: %.2f\" % out[\"MaximumReturnInTheDomain\"])\n",
    "print(\"Profitable stock price range:\")\n",
    "\n",
    "for profrange in out[\"ProfitRanges\"]:\n",
    "    print(\"      %.2f ---> %.2f\" % (profrange[0], profrange[1]))\n",
    "\n",
    "print(\"Probability of Profit (PoP): %.1f%%\" % (out[\"ProbabilityOfProfit\"] * 100.0))"
   ]
  },
  {
   "cell_type": "code",
   "execution_count": 10,
   "metadata": {},
   "outputs": [
    {
     "data": {
      "text/plain": [
       "[<matplotlib.lines.Line2D at 0x18393418610>]"
      ]
     },
     "execution_count": 10,
     "metadata": {},
     "output_type": "execute_result"
    },
    {
     "data": {
      "image/png": "[encoded data removed]",
      "text/plain": [
       "<Figure size 640x480 with 1 Axes>"
      ]
     },
     "metadata": {},
     "output_type": "display_data"
    }
   ],
   "source": [
    "s, pl_total = st.getPL()\n",
    "zeroline = zeros(s.shape[0])\n",
    "plt.xlabel(\"Stock price\")\n",
    "plt.ylabel(\"Profit/Loss\")\n",
    "plt.xlim(0, 500)\n",
    "plt.plot(s, zeroline, \"m-\")\n",
    "plt.plot(s, pl_total, \"k-\")"
   ]
  },
  {
   "cell_type": "markdown",
   "metadata": {},
   "source": [
    "### Constrained (maximum profit/minimum loss ratio greater than or equal to 1):"
   ]
  },
  {
   "cell_type": "code",
   "execution_count": 11,
   "metadata": {},
   "outputs": [],
   "source": [
    "def get_highest_pop():\n",
    "    maxpop = 0.0\n",
    "\n",
    "    for i in range(len(chain) - 1):\n",
    "        for j in range(i + i, len(chain)):\n",
    "            for k in ((\"sell\", \"buy\"), (\"buy\", \"sell\")):\n",
    "                if k[0] == \"sell\":\n",
    "                    premium = [chain[i][1], chain[j][2]]\n",
    "                else:\n",
    "                    premium = [chain[i][2], chain[j][1]]\n",
    "\n",
    "                strategy = [\n",
    "                    {\n",
    "                        \"type\": \"call\",\n",
    "                        \"strike\": chain[i][0],\n",
    "                        \"premium\": premium[0],\n",
    "                        \"n\": 100,\n",
    "                        \"action\": k[0],\n",
    "                    },\n",
    "                    {\n",
    "                        \"type\": \"call\",\n",
    "                        \"strike\": chain[j][0],\n",
    "                        \"premium\": premium[1],\n",
    "                        \"n\": 100,\n",
    "                        \"action\": k[1],\n",
    "                    },\n",
    "                ]\n",
    "\n",
    "                st.getdata(\n",
    "                    stockprice=stockprice,\n",
    "                    startdate=startdate,\n",
    "                    targetdate=targetdate,\n",
    "                    volatility=volatility,\n",
    "                    interestrate=interestrate,\n",
    "                    minstock=minstock,\n",
    "                    maxstock=maxstock,\n",
    "                    strategy=strategy,\n",
    "                )\n",
    "\n",
    "                out = st.run()\n",
    "\n",
    "                if (\n",
    "                    abs(\n",
    "                        out[\"MaximumReturnInTheDomain\"]\n",
    "                        / out[\"MinimumReturnInTheDomain\"]\n",
    "                    )\n",
    "                    >= 1.0\n",
    "                ):\n",
    "                    if maxpop < out[\"ProbabilityOfProfit\"]:\n",
    "                        maxpop = out[\"ProbabilityOfProfit\"]\n",
    "                        best_strategy = strategy\n",
    "\n",
    "    return best_strategy"
   ]
  },
  {
   "cell_type": "code",
   "execution_count": 12,
   "metadata": {},
   "outputs": [
    {
     "name": "stdout",
     "output_type": "stream",
     "text": [
      "CPU times: total: 4.91 s\n",
      "Wall time: 4.93 s\n"
     ]
    }
   ],
   "source": [
    "%%time\n",
    "best_strategy = get_highest_pop()"
   ]
  },
  {
   "cell_type": "code",
   "execution_count": 13,
   "metadata": {},
   "outputs": [
    {
     "name": "stdout",
     "output_type": "stream",
     "text": [
      "[{'type': 'call', 'strike': 260.0, 'premium': 83.0, 'n': 100, 'action': 'buy'}, {'type': 'call', 'strike': 430.0, 'premium': 0.07, 'n': 100, 'action': 'sell'}]\n"
     ]
    }
   ],
   "source": [
    "print(best_strategy)"
   ]
  },
  {
   "cell_type": "code",
   "execution_count": 14,
   "metadata": {},
   "outputs": [],
   "source": [
    "st.getdata(\n",
    "    stockprice=stockprice,\n",
    "    startdate=startdate,\n",
    "    targetdate=targetdate,\n",
    "    volatility=volatility,\n",
    "    interestrate=interestrate,\n",
    "    minstock=minstock,\n",
    "    maxstock=maxstock,\n",
    "    strategy=best_strategy,\n",
    ")\n",
    "\n",
    "out = st.run()"
   ]
  },
  {
   "cell_type": "code",
   "execution_count": 15,
   "metadata": {},
   "outputs": [
    {
     "name": "stdout",
     "output_type": "stream",
     "text": [
      "Days remaining to the target date: 18\n",
      "Strategy cost: -8293.00\n",
      "Maximum loss: 8293.00\n",
      "Maximum profit: 8707.00\n",
      "Profitable stock price range:\n",
      "      342.94 ---> inf\n",
      "Probability of Profit (PoP): 49.2%\n"
     ]
    }
   ],
   "source": [
    "print(\"Days remaining to the target date: %d\" % st.days2target)\n",
    "print(\"Strategy cost: %.2f\" % out[\"StrategyCost\"])\n",
    "print(\"Maximum loss: %.2f\" % abs(out[\"MinimumReturnInTheDomain\"]))\n",
    "print(\"Maximum profit: %.2f\" % out[\"MaximumReturnInTheDomain\"])\n",
    "print(\"Profitable stock price range:\")\n",
    "\n",
    "for profrange in out[\"ProfitRanges\"]:\n",
    "    print(\"      %.2f ---> %.2f\" % (profrange[0], profrange[1]))\n",
    "\n",
    "print(\"Probability of Profit (PoP): %.1f%%\" % (out[\"ProbabilityOfProfit\"] * 100.0))"
   ]
  },
  {
   "cell_type": "code",
   "execution_count": 16,
   "metadata": {},
   "outputs": [
    {
     "data": {
      "text/plain": [
       "[<matplotlib.lines.Line2D at 0x183935119d0>]"
      ]
     },
     "execution_count": 16,
     "metadata": {},
     "output_type": "execute_result"
    },
    {
     "data": {
      "image/png": "[encoded data removed]",
      "text/plain": [
       "<Figure size 640x480 with 1 Axes>"
      ]
     },
     "metadata": {},
     "output_type": "display_data"
    }
   ],
   "source": [
    "s, pl_total = st.getPL()\n",
    "zeroline = zeros(s.shape[0])\n",
    "plt.xlabel(\"Stock price\")\n",
    "plt.ylabel(\"Profit/Loss\")\n",
    "plt.xlim(0, 500)\n",
    "plt.plot(s, zeroline, \"m-\")\n",
    "plt.plot(s, pl_total, \"k-\")"
   ]
  },
  {
   "cell_type": "code",
   "execution_count": null,
   "metadata": {},
   "outputs": [],
   "source": []
  }
 ],
 "metadata": {
  "kernelspec": {
   "display_name": "Python 3 (ipykernel)",
   "language": "python",
   "name": "python3"
  },
  "language_info": {
   "codemirror_mode": {
    "name": "ipython",
    "version": 3
   },
   "file_extension": ".py",
   "mimetype": "text/x-python",
   "name": "python",
   "nbconvert_exporter": "python",
   "pygments_lexer": "ipython3",
   "version": "3.11.4"
  }
 },
 "nbformat": 4,
 "nbformat_minor": 4
}
