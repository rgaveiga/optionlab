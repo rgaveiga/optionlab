{
 "cells": [
  {
   "cell_type": "markdown",
   "metadata": {},
   "source": [
    "# Black-Scholes calculator\n",
    "\n",
    "This notebook can be used to calculate the prices of call and put options, as well as the corresponding Greeks, using the famous [Black-Scholes model](https://www.investopedia.com/terms/b/blackscholes.asp).\n",
    "\n",
    "**Caveat: Options are very risky derivatives and, like any other type of financial vehicle, trading options requires due diligence.**"
   ]
  },
  {
   "cell_type": "code",
   "execution_count": 1,
   "metadata": {},
   "outputs": [],
   "source": [
    "from __future__ import print_function\n",
    "from __future__ import division\n",
    "from optionlab import __version__\n",
    "import sys\n",
    "from optionlab.black_scholes import getBSinfo"
   ]
  },
  {
   "cell_type": "code",
   "execution_count": 2,
   "metadata": {},
   "outputs": [
    {
     "name": "stdout",
     "output_type": "stream",
     "text": [
      "Python version: 3.7.6 (default, Jan  8 2020, 20:23:39) [MSC v.1916 64 bit (AMD64)]\n",
      "OptionLab version: 0.1.5\n"
     ]
    }
   ],
   "source": [
    "print(\"Python version: %s\" % sys.version)\n",
    "print(\"OptionLab version: %s\" % __version__)"
   ]
  },
  {
   "cell_type": "markdown",
   "metadata": {},
   "source": [
    "## Input\n",
    "\n",
    "You must provide the spot price of the underlying asset, the option strike, the annualized risk-free interest rate (as a percentage), the annualized volatility (also as a percentage), and the number of days remaining until the option expires. The annualized dividend yield on the stock, also as a percentage, is optional."
   ]
  },
  {
   "cell_type": "code",
   "execution_count": 3,
   "metadata": {},
   "outputs": [],
   "source": [
    "stockprice = 100.0\n",
    "strike = 105.0\n",
    "interestrate = 1.0\n",
    "dividendyield = 0.0\n",
    "volatility = 20.0\n",
    "days2maturity = 60"
   ]
  },
  {
   "cell_type": "markdown",
   "metadata": {},
   "source": [
    "## Calculations\n",
    "\n",
    "Before performing the Black-Scholes calculations, the risk-free interest rate, dividend yield and volatility are converted from percentage to fractional and time remaining to option expiration is converted from days to years.\n",
    "\n",
    "Then Black-Scholes calculations are then performed considering the input data that you provided."
   ]
  },
  {
   "cell_type": "code",
   "execution_count": 4,
   "metadata": {},
   "outputs": [
    {
     "name": "stdout",
     "output_type": "stream",
     "text": [
      "Wall time: 9.21 ms\n"
     ]
    }
   ],
   "source": [
    "%%time\n",
    "interestrate = interestrate / 100\n",
    "dividendyield = dividendyield / 100\n",
    "volatility = volatility / 100\n",
    "time2maturity = days2maturity / 365\n",
    "(\n",
    "    callprice,\n",
    "    putprice,\n",
    "    calldelta,\n",
    "    putdelta,\n",
    "    calltheta,\n",
    "    puttheta,\n",
    "    gamma,\n",
    "    vega,\n",
    "    callitmprob,\n",
    "    putitmprob,\n",
    ") = getBSinfo(\n",
    "    stockprice, strike, interestrate, volatility, time2maturity, dividendyield\n",
    ")"
   ]
  },
  {
   "cell_type": "markdown",
   "metadata": {},
   "source": [
    "## Output\n",
    "\n",
    "You can find below the output of Black-Scholes calculations."
   ]
  },
  {
   "cell_type": "code",
   "execution_count": 5,
   "metadata": {},
   "outputs": [
    {
     "name": "stdout",
     "output_type": "stream",
     "text": [
      "CALL\n",
      "====\n",
      "    Price: 1.44\n",
      "    Delta: 0.29\n",
      "    Theta: -8.78\n",
      "    ITM probability: 26.70\n",
      "\n",
      "\n",
      "PUT\n",
      "===\n",
      "    Price: 6.27\n",
      "    Delta: -0.71\n",
      "    Theta: -7.73\n",
      "    ITM probability: 73.30\n",
      "\n",
      "\n",
      "Gamma and Vega: 0.0425 \n",
      "                0.14\n"
     ]
    }
   ],
   "source": [
    "print(\"CALL\")\n",
    "print(\"====\")\n",
    "print(\"    Price: %.2f\" % callprice)\n",
    "print(\"    Delta: %.2f\" % calldelta)\n",
    "print(\"    Theta: %.2f\" % (calltheta))\n",
    "print(\"    ITM probability: %.2f\" % (callitmprob * 100.0))\n",
    "print(\"\\n\")\n",
    "print(\"PUT\")\n",
    "print(\"===\")\n",
    "print(\"    Price: %.2f\" % putprice)\n",
    "print(\"    Delta: %.2f\" % putdelta)\n",
    "print(\"    Theta: %.2f\" % (puttheta))\n",
    "print(\"    ITM probability: %.2f\" % (putitmprob * 100.0))\n",
    "print(\"\\n\")\n",
    "print(\"Gamma and Vega: %.4f \\n                %.2f\" % (gamma, vega))"
   ]
  },
  {
   "cell_type": "code",
   "execution_count": null,
   "metadata": {},
   "outputs": [],
   "source": []
  }
 ],
 "metadata": {
  "kernelspec": {
   "display_name": "Python 3",
   "language": "python",
   "name": "python3"
  },
  "language_info": {
   "codemirror_mode": {
    "name": "ipython",
    "version": 3
   },
   "file_extension": ".py",
   "mimetype": "text/x-python",
   "name": "python",
   "nbconvert_exporter": "python",
   "pygments_lexer": "ipython3",
   "version": "3.7.6"
  }
 },
 "nbformat": 4,
 "nbformat_minor": 4
}
