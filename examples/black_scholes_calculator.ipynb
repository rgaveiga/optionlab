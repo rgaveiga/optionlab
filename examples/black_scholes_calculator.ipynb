{
 "cells": [
  {
   "cell_type": "markdown",
   "metadata": {},
   "source": [
    "# Black-Scholes calculator\n",
    "\n",
    "This notebook can be used to calculate the prices of call and put options, as well as the corresponding Greeks, using the famous [Black-Scholes model](https://www.investopedia.com/terms/b/blackscholes.asp).\n",
    "\n",
    "**Caveat: Options are very risky derivatives and, like any other type of financial vehicle, trading options requires due diligence.**"
   ]
  },
  {
   "cell_type": "code",
   "execution_count": 1,
   "metadata": {
    "ExecuteTime": {
     "end_time": "2024-03-15T21:15:37.010803Z",
     "start_time": "2024-03-15T21:15:36.450216Z"
    }
   },
   "outputs": [],
   "source": [
    "from __future__ import print_function\n",
    "from __future__ import division\n",
    "from optionlab import VERSION, get_bs_info\n",
    "import sys"
   ]
  },
  {
   "cell_type": "code",
   "execution_count": 2,
   "metadata": {
    "ExecuteTime": {
     "end_time": "2024-03-11T13:51:18.074225Z",
     "start_time": "2024-03-11T13:51:18.059531Z"
    }
   },
   "outputs": [
    {
     "name": "stdout",
     "output_type": "stream",
     "text": [
      "Python version: 3.11.9 | packaged by Anaconda, Inc. | (main, Apr 19 2024, 16:40:41) [MSC v.1916 64 bit (AMD64)]\n",
      "OptionLab version: 1.4.2\n"
     ]
    }
   ],
   "source": [
    "print(f\"Python version: {sys.version}\")\n",
    "print(f\"OptionLab version: {VERSION}\")"
   ]
  },
  {
   "cell_type": "markdown",
   "metadata": {},
   "source": [
    "## Input\n",
    "\n",
    "You must provide the spot price of the underlying asset, the option strike, the annualized risk-free interest rate (as a percentage), the annualized volatility (also as a percentage), and the number of days remaining until the option expires. The annualized dividend yield on the stock, also as a percentage, is optional."
   ]
  },
  {
   "cell_type": "code",
   "execution_count": 3,
   "metadata": {
    "ExecuteTime": {
     "end_time": "2024-03-11T13:51:19.921321Z",
     "start_time": "2024-03-11T13:51:19.914234Z"
    }
   },
   "outputs": [],
   "source": [
    "stock_price = 100.0\n",
    "strike = 105.0\n",
    "interest_rate = 1.0\n",
    "dividend_yield = 0.0\n",
    "volatility = 20.0\n",
    "days_to_maturity = 60"
   ]
  },
  {
   "cell_type": "markdown",
   "metadata": {},
   "source": [
    "## Calculations\n",
    "\n",
    "Before performing the calculations, the risk-free interest rate, dividend yield and volatility are converted from percentage to fractional and time remaining to option expiration is converted from days to years.\n",
    "\n",
    "The calculations are then performed using the Black-Scholes model."
   ]
  },
  {
   "cell_type": "code",
   "execution_count": 4,
   "metadata": {
    "ExecuteTime": {
     "end_time": "2024-03-11T13:51:23.066600Z",
     "start_time": "2024-03-11T13:51:23.061122Z"
    }
   },
   "outputs": [
    {
     "name": "stdout",
     "output_type": "stream",
     "text": [
      "CPU times: total: 0 ns\n",
      "Wall time: 0 ns\n"
     ]
    }
   ],
   "source": [
    "%%time\n",
    "interest_rate = interest_rate / 100\n",
    "dividend_yield = dividend_yield / 100\n",
    "volatility = volatility / 100\n",
    "time_to_maturity = days_to_maturity / 365\n",
    "bs = get_bs_info(\n",
    "    stock_price, strike, interest_rate, volatility, time_to_maturity, dividend_yield\n",
    ")"
   ]
  },
  {
   "cell_type": "markdown",
   "metadata": {},
   "source": [
    "## Output\n",
    "\n",
    "You can find below the output of Black-Scholes calculations."
   ]
  },
  {
   "cell_type": "code",
   "execution_count": 5,
   "metadata": {
    "ExecuteTime": {
     "end_time": "2024-03-11T13:51:26.685306Z",
     "start_time": "2024-03-11T13:51:26.678507Z"
    }
   },
   "outputs": [
    {
     "name": "stdout",
     "output_type": "stream",
     "text": [
      "CALL\n",
      "====\n",
      "    Price: 1.44\n",
      "    Delta: 0.29\n",
      "    Theta: -8.78\n",
      "    Rho:  0.05\n",
      "    ITM probability: 26.70\n",
      "\n",
      "\n",
      "PUT\n",
      "===\n",
      "    Price: 6.27\n",
      "    Delta: -0.71\n",
      "    Theta: -7.73\n",
      "    Rho: -0.13\n",
      "    ITM probability: 73.30\n",
      "\n",
      "\n",
      "Gamma and Vega: 0.0425 \n",
      "                0.14\n"
     ]
    }
   ],
   "source": [
    "print(\"CALL\")\n",
    "print(\"====\")\n",
    "print(f\"    Price: {bs.call_price:.2f}\")\n",
    "print(f\"    Delta: {bs.call_delta:.2f}\")\n",
    "print(f\"    Theta: {bs.call_theta:.2f}\")\n",
    "print(f\"    Rho: {bs.call_rho: .2f}\")\n",
    "print(f\"    ITM probability: {bs.call_itm_prob * 100.0:.2f}\")\n",
    "print(\"\\n\")\n",
    "print(\"PUT\")\n",
    "print(\"===\")\n",
    "print(f\"    Price: {bs.put_price:.2f}\")\n",
    "print(f\"    Delta: {bs.put_delta:.2f}\")\n",
    "print(f\"    Theta: {bs.put_theta:.2f}\")\n",
    "print(f\"    Rho: {bs.put_rho: .2f}\")\n",
    "print(f\"    ITM probability: {bs.put_itm_prob * 100.0:.2f}\")\n",
    "print(\"\\n\")\n",
    "print(f\"Gamma and Vega: {bs.gamma:.4f} \\n                {bs.vega:.2f}\")"
   ]
  },
  {
   "cell_type": "code",
   "execution_count": null,
   "metadata": {},
   "outputs": [],
   "source": []
  }
 ],
 "metadata": {
  "kernelspec": {
   "display_name": "Python 3 (ipykernel)",
   "language": "python",
   "name": "python3"
  },
  "language_info": {
   "codemirror_mode": {
    "name": "ipython",
    "version": 3
   },
   "file_extension": ".py",
   "mimetype": "text/x-python",
   "name": "python",
   "nbconvert_exporter": "python",
   "pygments_lexer": "ipython3",
   "version": "3.11.9"
  }
 },
 "nbformat": 4,
 "nbformat_minor": 4
}
