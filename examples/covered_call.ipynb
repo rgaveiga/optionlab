{
 "cells": [
  {
   "cell_type": "markdown",
   "metadata": {},
   "source": [
    "# Covered Call\n",
    "\n",
    "This [strategy](https://www.investopedia.com/terms/c/coveredcall.asp) involves purchasing a number of shares and simultaneously selling the same number of call options. \n",
    "\n",
    "If the stock price is below the strike price of the call options at expiration, the trader keeps the shares and pockets the option premium.\n",
    "\n",
    "On the other hand, if the stock price rises above the strike price, it is sufficient to deliver the shares to the buyer of the call options at expiration for the option's strike price.\n",
    "\n",
    "**Caveat: Options are very risky derivatives and, like any other type of financial vehicle, trading options requires due diligence. Transactions shown as examples of trading strategies with options in this notebook are not recommendations.**"
   ]
  },
  {
   "cell_type": "code",
   "execution_count": 1,
   "metadata": {},
   "outputs": [],
   "source": [
    "from __future__ import print_function\n",
    "import sys\n",
    "import optionlab as op\n",
    "from numpy import zeros\n",
    "import matplotlib.pyplot as plt\n",
    "\n",
    "%matplotlib inline"
   ]
  },
  {
   "cell_type": "code",
   "execution_count": 2,
   "metadata": {},
   "outputs": [
    {
     "name": "stdout",
     "output_type": "stream",
     "text": [
      "Python version: 3.7.6 (default, Jan  8 2020, 20:23:39) [MSC v.1916 64 bit (AMD64)]\n",
      "OptionLab version: 0.1.5\n"
     ]
    }
   ],
   "source": [
    "print(\"Python version: %s\" % sys.version)\n",
    "print(\"OptionLab version: %s\" % op.__version__)"
   ]
  },
  {
   "cell_type": "markdown",
   "metadata": {},
   "source": [
    "After importing OptionLab, a Strategy object must be created."
   ]
  },
  {
   "cell_type": "code",
   "execution_count": 3,
   "metadata": {},
   "outputs": [],
   "source": [
    "st = op.strategy.Strategy()"
   ]
  },
  {
   "cell_type": "markdown",
   "metadata": {},
   "source": [
    "The underlying asset is Apple stock (ticker: APPL). We consider the stock price on January 18, 2021. The strategy involves buying 100 Apple shares at 164.04 and selling the same number of calls with a strike of 175. We collect a premium of 1.15 per call option, but we have to pay 164.04 per Apple share. Hence, this is a debit strategy."
   ]
  },
  {
   "cell_type": "code",
   "execution_count": 4,
   "metadata": {},
   "outputs": [],
   "source": [
    "stockprice = 164.04\n",
    "volatility = 0.272\n",
    "startdate = \"2021-11-22\"\n",
    "targetdate = \"2021-12-17\"\n",
    "interestrate = 0.0002\n",
    "minstock = stockprice - round(stockprice * 0.5, 2)\n",
    "maxstock = stockprice + round(stockprice * 0.5, 2)\n",
    "strategy = [\n",
    "    {\"type\": \"stock\", \"n\": 100, \"action\": \"buy\"},\n",
    "    {\"type\": \"call\", \"strike\": 175.00, \"premium\": 1.15, \"n\": 100, \"action\": \"sell\"},\n",
    "]\n",
    "\n",
    "st.getdata(\n",
    "    stockprice=stockprice,\n",
    "    startdate=startdate,\n",
    "    targetdate=targetdate,\n",
    "    volatility=volatility,\n",
    "    interestrate=interestrate,\n",
    "    minstock=minstock,\n",
    "    maxstock=maxstock,\n",
    "    strategy=strategy,\n",
    ")"
   ]
  },
  {
   "cell_type": "code",
   "execution_count": 5,
   "metadata": {},
   "outputs": [
    {
     "name": "stdout",
     "output_type": "stream",
     "text": [
      "Wall time: 4.04 ms\n"
     ]
    }
   ],
   "source": [
    "%%time\n",
    "out = st.run()"
   ]
  },
  {
   "cell_type": "markdown",
   "metadata": {},
   "source": [
    "Profit/loss profiles for each leg and the overall strategy are obtained by calling the *getPL()* method and plotted at the option's maturity."
   ]
  },
  {
   "cell_type": "code",
   "execution_count": 6,
   "metadata": {},
   "outputs": [
    {
     "data": {
      "text/plain": [
       "<matplotlib.legend.Legend at 0x1bdd86c4708>"
      ]
     },
     "execution_count": 6,
     "metadata": {},
     "output_type": "execute_result"
    },
    {
     "data": {
      "image/png": "[encoded data removed]",
      "text/plain": [
       "<Figure size 432x288 with 1 Axes>"
      ]
     },
     "metadata": {
      "needs_background": "light"
     },
     "output_type": "display_data"
    }
   ],
   "source": [
    "s, pl_total = st.getPL()\n",
    "leg = []\n",
    "\n",
    "for i in range(len(strategy)):\n",
    "    leg.append(st.getPL(i)[1])\n",
    "\n",
    "zeroline = zeros(s.shape[0])\n",
    "plt.xlabel(\"Stock price\")\n",
    "plt.ylabel(\"Profit/Loss\")\n",
    "plt.xlim(120, 200)\n",
    "plt.ylim(-2000, 2000)\n",
    "plt.plot(s, zeroline, \"m-\")\n",
    "plt.plot(s, pl_total, \"k-\", label=\"Covered Call\")\n",
    "plt.plot(s, leg[0], \"r--\", label=\"Long Stock\")\n",
    "plt.plot(s, leg[1], \"b--\", label=\"Short Call\")\n",
    "plt.legend(loc=\"upper left\")"
   ]
  },
  {
   "cell_type": "markdown",
   "metadata": {},
   "source": [
    "Below one can see some useful results of the calculations made for the strategy, including its PoP."
   ]
  },
  {
   "cell_type": "code",
   "execution_count": 7,
   "metadata": {},
   "outputs": [
    {
     "name": "stdout",
     "output_type": "stream",
     "text": [
      "Days remaining to the target date: 18\n",
      "Strategy cost: -16289.00\n",
      "Maximum loss: 8087.00\n",
      "Maximum profit: 1211.00\n",
      "Profitable stock price range:\n",
      "      162.90 ---> inf\n",
      "Probability of Profit (PoP): 52.4%\n"
     ]
    }
   ],
   "source": [
    "print(\"Days remaining to the target date: %d\" % st.days2target)\n",
    "print(\"Strategy cost: %.2f\" % out[\"StrategyCost\"])\n",
    "print(\"Maximum loss: %.2f\" % abs(out[\"MinimumReturnInTheDomain\"]))\n",
    "print(\"Maximum profit: %.2f\" % out[\"MaximumReturnInTheDomain\"])\n",
    "print(\"Profitable stock price range:\")\n",
    "\n",
    "for profrange in out[\"ProfitRanges\"]:\n",
    "    print(\"      %.2f ---> %.2f\" % (profrange[0], profrange[1]))\n",
    "\n",
    "print(\"Probability of Profit (PoP): %.1f%%\" % (out[\"ProbabilityOfProfit\"] * 100.0))"
   ]
  },
  {
   "cell_type": "code",
   "execution_count": null,
   "metadata": {},
   "outputs": [],
   "source": []
  }
 ],
 "metadata": {
  "kernelspec": {
   "display_name": "Python 3",
   "language": "python",
   "name": "python3"
  },
  "language_info": {
   "codemirror_mode": {
    "name": "ipython",
    "version": 3
   },
   "file_extension": ".py",
   "mimetype": "text/x-python",
   "name": "python",
   "nbconvert_exporter": "python",
   "pygments_lexer": "ipython3",
   "version": "3.7.6"
  }
 },
 "nbformat": 4,
 "nbformat_minor": 4
}
