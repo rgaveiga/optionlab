{
 "cells": [
  {
   "cell_type": "markdown",
   "metadata": {},
   "source": [
    "# Naked Call\n",
    "\n",
    "This [strategy](https://www.investopedia.com/articles/optioninvestor/122701.asp) consists of a trader selling a number of call options for which s/he does not own the underlying asset.\n",
    "\n",
    "If the stock price remains below the strike price of the call options at expiration, the trader pockets the option premium.\n",
    "\n",
    "On the other hand, if the stock price rises above the strike price, the losses are unlimited. Naked call is considered one of the riskiest option strategies.\n",
    "\n",
    "**Caveat: Options are very risky derivatives and, like any other type of financial vehicle, trading options requires due diligence. Transactions shown as examples of trading strategies with options in this notebook are not recommendations.**"
   ]
  },
  {
   "cell_type": "code",
   "execution_count": 1,
   "metadata": {
    "ExecuteTime": {
     "end_time": "2024-03-15T21:16:28.614458Z",
     "start_time": "2024-03-15T21:16:27.865860Z"
    }
   },
   "outputs": [],
   "source": [
    "from __future__ import print_function\n",
    "\n",
    "import datetime as dt\n",
    "import sys\n",
    "\n",
    "from optionlab import VERSION, run_strategy, Inputs, plot_pl\n",
    "\n",
    "%matplotlib inline"
   ]
  },
  {
   "cell_type": "code",
   "execution_count": 2,
   "metadata": {},
   "outputs": [
    {
     "name": "stdout",
     "output_type": "stream",
     "text": [
      "Python version: 3.11.9 | packaged by Anaconda, Inc. | (main, Apr 19 2024, 16:40:41) [MSC v.1916 64 bit (AMD64)]\n",
      "OptionLab version: 1.4.2\n"
     ]
    }
   ],
   "source": [
    "print(\"Python version: %s\" % sys.version)\n",
    "print(\"OptionLab version: %s\" % VERSION)"
   ]
  },
  {
   "cell_type": "markdown",
   "metadata": {},
   "source": [
    "The underlying asset is Apple stock (ticker: APPL). We consider the stock price on January 18, 2021. The strategy involves  selling 100 calls with a strike of 175. We collect a premium of 1.15 per call option."
   ]
  },
  {
   "cell_type": "code",
   "execution_count": 3,
   "metadata": {
    "ExecuteTime": {
     "end_time": "2024-03-15T21:16:37.874205Z",
     "start_time": "2024-03-15T21:16:37.868325Z"
    }
   },
   "outputs": [],
   "source": [
    "stock_price = 164.04\n",
    "volatility = 0.272\n",
    "start_date = dt.date(2021, 11, 22)\n",
    "target_date = dt.date(2021, 12, 17)\n",
    "interest_rate = 0.0002\n",
    "min_stock = stock_price - round(stock_price * 0.5, 2)\n",
    "max_stock = stock_price + round(stock_price * 0.5, 2)\n",
    "profit_target = 100.0\n",
    "loss_limit = -100.0\n",
    "model = \"black-scholes\"\n",
    "strategy = [\n",
    "    {\"type\": \"call\", \"strike\": 175.00, \"premium\": 1.15, \"n\": 100, \"action\": \"sell\"}\n",
    "]\n",
    "\n",
    "inputs = Inputs(\n",
    "    stock_price=stock_price,\n",
    "    start_date=start_date,\n",
    "    target_date=target_date,\n",
    "    volatility=volatility,\n",
    "    interest_rate=interest_rate,\n",
    "    min_stock=min_stock,\n",
    "    max_stock=max_stock,\n",
    "    profit_target=profit_target,\n",
    "    loss_limit=loss_limit,\n",
    "    model=model,\n",
    "    strategy=strategy,\n",
    ")"
   ]
  },
  {
   "cell_type": "code",
   "execution_count": 4,
   "metadata": {
    "ExecuteTime": {
     "end_time": "2024-03-15T21:16:40.959949Z",
     "start_time": "2024-03-15T21:16:40.942429Z"
    }
   },
   "outputs": [
    {
     "name": "stdout",
     "output_type": "stream",
     "text": [
      "CPU times: total: 141 ms\n",
      "Wall time: 125 ms\n"
     ]
    }
   ],
   "source": [
    "%%time\n",
    "out = run_strategy(inputs)"
   ]
  },
  {
   "cell_type": "code",
   "execution_count": 5,
   "metadata": {
    "ExecuteTime": {
     "end_time": "2024-03-15T21:16:42.811428Z",
     "start_time": "2024-03-15T21:16:42.639286Z"
    }
   },
   "outputs": [
    {
     "name": "stdout",
     "output_type": "stream",
     "text": [
      "Profit/Loss diagram:\n",
      "--------------------\n",
      "The vertical green dashed line corresponds to the position of the stock's spot price. The right and left arrow markers indicate the strike prices of calls and puts, respectively, with blue representing long and red representing short positions. The blue dashed line represents the profit target level. The red dashed line represents the loss limit level.\n"
     ]
    },
    {
     "data": {
      "image/png": "[encoded data removed]",
      "text/plain": [
       "<Figure size 640x480 with 1 Axes>"
      ]
     },
     "metadata": {},
     "output_type": "display_data"
    }
   ],
   "source": [
    "plot_pl(out)"
   ]
  },
  {
   "cell_type": "code",
   "execution_count": 6,
   "metadata": {
    "ExecuteTime": {
     "end_time": "2024-03-13T02:28:17.014464Z",
     "start_time": "2024-03-13T02:28:17.004246Z"
    }
   },
   "outputs": [
    {
     "name": "stdout",
     "output_type": "stream",
     "text": [
      "Maximum loss: 6992.00\n",
      "Maximum profit: 115.00\n",
      "Profitable stock price range:\n",
      "      0.00 ---> 176.14\n",
      "Probability of Profit (PoP): 83.9%\n",
      "Probability of reaching 100.00 or more: 82.0%\n",
      "Probability of losing 100.00 or more: 14.3%\n"
     ]
    }
   ],
   "source": [
    "print(f\"Maximum loss: {abs(out.minimum_return_in_the_domain):.2f}\")\n",
    "print(f\"Maximum profit: {out.maximum_return_in_the_domain:.2f}\")\n",
    "print(\"Profitable stock price range:\")\n",
    "\n",
    "for low, high in out.profit_ranges:\n",
    "    print(f\"      {low:.2f} ---> {high:.2f}\")\n",
    "\n",
    "print(f\"Probability of Profit (PoP): {out.probability_of_profit * 100.0:.1f}%\")\n",
    "print(\n",
    "    f\"Probability of reaching {profit_target:.2f} or more: {out.probability_of_profit_target * 100.0:.1f}%\"\n",
    ")\n",
    "print(\n",
    "    f\"Probability of losing {abs(loss_limit):.2f} or more: {out.probability_of_loss_limit * 100.0:.1f}%\"\n",
    ")"
   ]
  },
  {
   "cell_type": "code",
   "execution_count": null,
   "metadata": {},
   "outputs": [],
   "source": []
  }
 ],
 "metadata": {
  "kernelspec": {
   "display_name": "Python 3 (ipykernel)",
   "language": "python",
   "name": "python3"
  },
  "language_info": {
   "codemirror_mode": {
    "name": "ipython",
    "version": 3
   },
   "file_extension": ".py",
   "mimetype": "text/x-python",
   "name": "python",
   "nbconvert_exporter": "python",
   "pygments_lexer": "ipython3",
   "version": "3.11.9"
  }
 },
 "nbformat": 4,
 "nbformat_minor": 4
}
