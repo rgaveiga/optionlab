{
 "cells": [
  {
   "cell_type": "markdown",
   "metadata": {},
   "source": [
    "# Probability of profit (PoP) calculator with Black-Scholes model\n",
    "\n",
    "This notebook can be used to calculate the PoP of an option strategy using the famous [Black-Scholes model](https://www.investopedia.com/terms/b/blackscholes.asp).\n",
    "\n",
    "**Caveat: Options are very risky derivatives and, like any other type of financial vehicle, trading options requires due diligence.**"
   ]
  },
  {
   "cell_type": "code",
   "execution_count": 1,
   "metadata": {
    "ExecuteTime": {
     "end_time": "2024-03-15T17:51:40.653496Z",
     "start_time": "2024-03-15T17:51:40.646744Z"
    }
   },
   "outputs": [],
   "source": [
    "from __future__ import division\n",
    "from __future__ import print_function\n",
    "\n",
    "import sys\n",
    "\n",
    "from scipy import stats\n",
    "\n",
    "from optionlab import VERSION, get_d1_d2, get_pop, ProbabilityOfProfitInputs"
   ]
  },
  {
   "cell_type": "code",
   "execution_count": 2,
   "metadata": {
    "ExecuteTime": {
     "end_time": "2024-03-13T02:28:52.693192Z",
     "start_time": "2024-03-13T02:28:52.691224Z"
    }
   },
   "outputs": [
    {
     "name": "stdout",
     "output_type": "stream",
     "text": [
      "Python version: 3.11.7 | packaged by Anaconda, Inc. | (main, Dec 15 2023, 18:05:47) [MSC v.1916 64 bit (AMD64)]\n",
      "optionlab version: 1.2.0\n"
     ]
    }
   ],
   "source": [
    "print(\"Python version: %s\" % sys.version)\n",
    "print(\"optionlab version: %s\" % VERSION)"
   ]
  },
  {
   "cell_type": "markdown",
   "metadata": {},
   "source": [
    "## Input\n",
    "\n",
    "You must provide the spot price of the underlying asset, the minimum and maximum stock prices of the underlying asset in the price range for which the option strategy is profitable, the annualized risk-free interest rate (as a percentage), the annualized volatility (also as a percentage), and the number of days remaining to the option expiration. The annualized dividend yield on the stock, also as a percentage, is optional."
   ]
  },
  {
   "cell_type": "code",
   "execution_count": 3,
   "metadata": {
    "ExecuteTime": {
     "end_time": "2024-03-13T02:28:54.617672Z",
     "start_time": "2024-03-13T02:28:54.615270Z"
    }
   },
   "outputs": [],
   "source": [
    "stock_price = 100.0\n",
    "s1, s2 = 95, 105\n",
    "interest_rate = 1.0\n",
    "dividend_yield = 0.0\n",
    "volatility = 20.0\n",
    "days_to_maturity = 60"
   ]
  },
  {
   "cell_type": "markdown",
   "metadata": {},
   "source": [
    "Before performing the Black-Scholes calculations, the risk-free interest rate, dividend yield and volatility are converted from percentage to fractional and time remaining to option expiration is converted from days to years."
   ]
  },
  {
   "cell_type": "code",
   "execution_count": 4,
   "metadata": {
    "ExecuteTime": {
     "end_time": "2024-03-13T02:28:56.604034Z",
     "start_time": "2024-03-13T02:28:56.600656Z"
    }
   },
   "outputs": [],
   "source": [
    "interest_rate = interest_rate / 100\n",
    "volatility = volatility / 100\n",
    "dividend_yield = dividend_yield / 100\n",
    "time_to_maturity = days_to_maturity / 365"
   ]
  },
  {
   "cell_type": "markdown",
   "metadata": {},
   "source": [
    "## Output from $d_2$"
   ]
  },
  {
   "cell_type": "code",
   "execution_count": 5,
   "metadata": {
    "ExecuteTime": {
     "end_time": "2024-03-13T02:28:58.408664Z",
     "start_time": "2024-03-13T02:28:58.406332Z"
    }
   },
   "outputs": [
    {
     "name": "stdout",
     "output_type": "stream",
     "text": [
      "===> Probability of Profit (PoP) from d2: 46.28\n"
     ]
    }
   ],
   "source": [
    "d2 = [\n",
    "    get_d1_d2(\n",
    "        stock_price, s1, interest_rate, volatility, time_to_maturity, dividend_yield\n",
    "    )[1],\n",
    "    get_d1_d2(\n",
    "        stock_price, s2, interest_rate, volatility, time_to_maturity, dividend_yield\n",
    "    )[1],\n",
    "]\n",
    "pop1 = stats.norm.cdf(d2[0]) - stats.norm.cdf(d2[1])\n",
    "print(\"===> Probability of Profit (PoP) from d2: %.2f\" % (pop1 * 100))"
   ]
  },
  {
   "cell_type": "markdown",
   "metadata": {},
   "source": [
    "## Output from *getPoP()*"
   ]
  },
  {
   "cell_type": "code",
   "execution_count": 6,
   "metadata": {
    "ExecuteTime": {
     "end_time": "2024-03-13T02:29:00.399725Z",
     "start_time": "2024-03-13T02:29:00.394010Z"
    }
   },
   "outputs": [
    {
     "name": "stdout",
     "output_type": "stream",
     "text": [
      "===> Probability of Profit (PoP) from getPoP(): 46.28\n"
     ]
    }
   ],
   "source": [
    "pop2 = get_pop(\n",
    "    [[s1, s2]],\n",
    "    ProbabilityOfProfitInputs(\n",
    "        source=\"black-scholes\",\n",
    "        stock_price=stock_price,\n",
    "        volatility=volatility,\n",
    "        interest_rate=interest_rate,\n",
    "        years_to_maturity=time_to_maturity,\n",
    "        dividend_yield=dividend_yield,\n",
    "    ),\n",
    ")\n",
    "print(\"===> Probability of Profit (PoP) from getPoP(): %.2f\" % (pop2 * 100))"
   ]
  },
  {
   "cell_type": "code",
   "execution_count": null,
   "metadata": {},
   "outputs": [],
   "source": []
  }
 ],
 "metadata": {
  "kernelspec": {
   "display_name": "Python 3 (ipykernel)",
   "language": "python",
   "name": "python3"
  },
  "language_info": {
   "codemirror_mode": {
    "name": "ipython",
    "version": 3
   },
   "file_extension": ".py",
   "mimetype": "text/x-python",
   "name": "python",
   "nbconvert_exporter": "python",
   "pygments_lexer": "ipython3",
   "version": "3.11.7"
  }
 },
 "nbformat": 4,
 "nbformat_minor": 4
}
