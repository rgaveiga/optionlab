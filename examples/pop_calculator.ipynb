{
 "cells": [
  {
   "cell_type": "markdown",
   "metadata": {},
   "source": [
    "# Probability of profit (PoP) calculator with Black-Scholes model\n",
    "\n",
    "This notebook can be used to calculate the PoP of an option strategy using the famous [Black-Scholes model](https://www.investopedia.com/terms/b/blackscholes.asp).\n",
    "\n",
    "**Caveat: Options are very risky derivatives and, like any other type of financial vehicle, trading options requires due diligence.**"
   ]
  },
  {
   "cell_type": "code",
   "execution_count": 1,
   "metadata": {},
   "outputs": [],
   "source": [
    "from __future__ import print_function\n",
    "from __future__ import division\n",
    "import sys\n",
    "import optionlab as op\n",
    "from scipy import stats"
   ]
  },
  {
   "cell_type": "code",
   "execution_count": 2,
   "metadata": {},
   "outputs": [
    {
     "name": "stdout",
     "output_type": "stream",
     "text": [
      "Python version: 3.7.6 (default, Jan  8 2020, 20:23:39) [MSC v.1916 64 bit (AMD64)]\n",
      "optionlab version: 0.1.5\n"
     ]
    }
   ],
   "source": [
    "print(\"Python version: %s\" % sys.version)\n",
    "print(\"optionlab version: %s\" % op.__version__)"
   ]
  },
  {
   "cell_type": "markdown",
   "metadata": {},
   "source": [
    "## Input\n",
    "\n",
    "You must provide the spot price of the underlying asset, the minimum and maximum stock prices of the underlying asset in the price range for which the option strategy is profitable, the annualized risk-free interest rate (as a percentage), the annualized volatility (also as a percentage), and the number of days remaining to the option expiration. The annualized dividend yield on the stock, also as a percentage, is optional."
   ]
  },
  {
   "cell_type": "code",
   "execution_count": 3,
   "metadata": {},
   "outputs": [],
   "source": [
    "stockprice = 100.0\n",
    "s1, s2 = 95, 105\n",
    "interestrate = 1.0\n",
    "dividendyield = 0.0\n",
    "volatility = 20.0\n",
    "days2maturity = 60"
   ]
  },
  {
   "cell_type": "markdown",
   "metadata": {},
   "source": [
    "Before performing the Black-Scholes calculations, the risk-free interest rate, dividend yield and volatility are converted from percentage to fractional and time remaining to option expiration is converted from days to years."
   ]
  },
  {
   "cell_type": "code",
   "execution_count": 4,
   "metadata": {},
   "outputs": [],
   "source": [
    "interestrate = interestrate / 100\n",
    "volatility = volatility / 100\n",
    "dividendyield = dividendyield / 100\n",
    "time2maturity = days2maturity / 365"
   ]
  },
  {
   "cell_type": "markdown",
   "metadata": {},
   "source": [
    "## Output from $d_2$"
   ]
  },
  {
   "cell_type": "code",
   "execution_count": 5,
   "metadata": {},
   "outputs": [
    {
     "name": "stdout",
     "output_type": "stream",
     "text": [
      "===> Probability of Profit (PoP) from d2: 46.28\n"
     ]
    }
   ],
   "source": [
    "d2 = [\n",
    "    op.black_scholes.get_d1_d2(\n",
    "        stockprice, s1, interestrate, volatility, time2maturity, dividendyield\n",
    "    )[1],\n",
    "    op.black_scholes.get_d1_d2(\n",
    "        stockprice, s2, interestrate, volatility, time2maturity, dividendyield\n",
    "    )[1],\n",
    "]\n",
    "pop1 = stats.norm.cdf(d2[0]) - stats.norm.cdf(d2[1])\n",
    "print(\"===> Probability of Profit (PoP) from d2: %.2f\" % (pop1 * 100))"
   ]
  },
  {
   "cell_type": "markdown",
   "metadata": {},
   "source": [
    "## Output from *getPoP()*"
   ]
  },
  {
   "cell_type": "code",
   "execution_count": 6,
   "metadata": {},
   "outputs": [
    {
     "name": "stdout",
     "output_type": "stream",
     "text": [
      "===> Probability of Profit (PoP) from getPoP(): 46.28\n"
     ]
    }
   ],
   "source": [
    "pop2 = op.support.getPoP(\n",
    "    [[s1, s2]],\n",
    "    \"black-scholes\",\n",
    "    stockprice=stockprice,\n",
    "    volatility=volatility,\n",
    "    interestrate=interestrate,\n",
    "    time2maturity=time2maturity,\n",
    "    dividendyield=dividendyield,\n",
    ")\n",
    "print(\"===> Probability of Profit (PoP) from getPoP(): %.2f\" % (pop2 * 100))"
   ]
  },
  {
   "cell_type": "code",
   "execution_count": null,
   "metadata": {},
   "outputs": [],
   "source": []
  }
 ],
 "metadata": {
  "kernelspec": {
   "display_name": "Python 3",
   "language": "python",
   "name": "python3"
  },
  "language_info": {
   "codemirror_mode": {
    "name": "ipython",
    "version": 3
   },
   "file_extension": ".py",
   "mimetype": "text/x-python",
   "name": "python",
   "nbconvert_exporter": "python",
   "pygments_lexer": "ipython3",
   "version": "3.7.6"
  }
 },
 "nbformat": 4,
 "nbformat_minor": 4
}
